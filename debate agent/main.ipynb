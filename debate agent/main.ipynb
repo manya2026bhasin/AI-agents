{
 "cells": [
  {
   "cell_type": "code",
   "execution_count": 2,
   "id": "10c96bf9",
   "metadata": {},
   "outputs": [],
   "source": [
    "from typing import Annotated\n",
    "\n",
    "from typing_extensions import TypedDict\n",
    "\n",
    "from langgraph.graph import StateGraph,START,END\n",
    "from langgraph.graph.message import add_messages"
   ]
  },
  {
   "cell_type": "code",
   "execution_count": 28,
   "id": "e9d2e9ce",
   "metadata": {},
   "outputs": [],
   "source": [
    "class State(TypedDict):\n",
    "    # Messages have the type \"list\". The `add_messages` function\n",
    "    # in the annotation defines how this state key should be updated\n",
    "    # (in this case, it appends messages to the list, rather than overwriting them)\n",
    "    messages: str\n",
    "    supporter: str\n",
    "    opponent: str\n",
    "    judgment: str"
   ]
  },
  {
   "cell_type": "code",
   "execution_count": 10,
   "id": "77abea4d",
   "metadata": {},
   "outputs": [
    {
     "data": {
      "text/plain": [
       "True"
      ]
     },
     "execution_count": 10,
     "metadata": {},
     "output_type": "execute_result"
    }
   ],
   "source": [
    "import os\n",
    "from dotenv import load_dotenv\n",
    "load_dotenv()"
   ]
  },
  {
   "cell_type": "code",
   "execution_count": 29,
   "id": "2add7256",
   "metadata": {},
   "outputs": [],
   "source": [
    "from langchain_groq import ChatGroq\n",
    "from langchain.chat_models import init_chat_model\n",
    "\n",
    "llm = ChatGroq(model=\"llama-3.1-8b-instant\")"
   ]
  },
  {
   "cell_type": "code",
   "execution_count": 30,
   "id": "48ab4e1f",
   "metadata": {},
   "outputs": [
    {
     "data": {
      "text/plain": [
       "ChatGroq(client=<groq.resources.chat.completions.Completions object at 0x000001B9157C4110>, async_client=<groq.resources.chat.completions.AsyncCompletions object at 0x000001B914DF7750>, model_name='llama-3.1-8b-instant', model_kwargs={}, groq_api_key=SecretStr('**********'))"
      ]
     },
     "execution_count": 30,
     "metadata": {},
     "output_type": "execute_result"
    }
   ],
   "source": [
    "llm"
   ]
  },
  {
   "cell_type": "code",
   "execution_count": 31,
   "id": "eaa9a5e5",
   "metadata": {},
   "outputs": [],
   "source": [
    "## Node Functionality\n",
    "def chatbot(state:State):\n",
    "    return {\"messages\":[llm.invoke(state[\"messages\"])]}"
   ]
  },
  {
   "cell_type": "code",
   "execution_count": 35,
   "id": "9e80239c",
   "metadata": {},
   "outputs": [],
   "source": [
    "graph_builder=StateGraph(State)\n",
    "def supporter_node(state: State):\n",
    "    return {\n",
    "        \"supporter\": llm.invoke(f\"Argue in favor of: {state['messages']}\")\n",
    "    }\n",
    "\n",
    "def opponent_node(state: State):\n",
    "    return {\n",
    "        \"opponent\": llm.invoke(f\"Argue against: {state['messages']}\")\n",
    "    }\n",
    "\n",
    "def judge_node(state: State):\n",
    "    return {\n",
    "        \"judgment\": llm.invoke(\n",
    "            f\"Summarize the debate.\\n\\n\"\n",
    "            f\"Supporter said: {state.get('supporter','')}\\n\"\n",
    "            f\"Opponent said: {state.get('opponent','')}\"\n",
    "        )\n",
    "    }\n",
    "\n",
    "graph_builder.add_node(\"supporter\", supporter_node)\n",
    "graph_builder.add_node(\"opponent\", opponent_node)\n",
    "graph_builder.add_node(\"judge\", judge_node)\n",
    "## Adding Edges\n",
    "graph_builder.add_edge(START,\"supporter\")\n",
    "graph_builder.add_edge(START,\"opponent\")\n",
    "graph_builder.add_edge(\"supporter\",\"judge\")\n",
    "graph_builder.add_edge(\"opponent\",\"judge\")\n",
    "graph_builder.add_edge(\"judge\",END)\n",
    "\n",
    "## compile the graph\n",
    "graph=graph_builder.compile()"
   ]
  },
  {
   "cell_type": "code",
   "execution_count": 36,
   "id": "53f520b8",
   "metadata": {},
   "outputs": [
    {
     "data": {
      "image/png": "[encoded data removed]",
      "text/plain": [
       "<IPython.core.display.Image object>"
      ]
     },
     "metadata": {},
     "output_type": "display_data"
    }
   ],
   "source": [
    "## Visualize the graph\n",
    "from IPython.display import Image,display\n",
    "\n",
    "try:\n",
    "    display(Image(graph.get_graph().draw_mermaid_png()))\n",
    "except Exception:\n",
    "    pass"
   ]
  },
  {
   "cell_type": "code",
   "execution_count": 37,
   "id": "de65c7bc",
   "metadata": {},
   "outputs": [],
   "source": [
    "response=graph.invoke({\"messages\":\"debate on use of mobile phones\"})"
   ]
  },
  {
   "cell_type": "code",
   "execution_count": 41,
   "id": "3bd0397e",
   "metadata": {},
   "outputs": [
    {
     "name": "stdout",
     "output_type": "stream",
     "text": [
      "\n",
      "=== Supporter ===\n",
      "The debate on the use of mobile phones has been a longstanding topic of\n",
      "discussion, with proponents on both sides presenting valid arguments. Here's a\n",
      "case in favor of debating the use of mobile phones:  **Positive impacts of\n",
      "mobile phones:**  1. **Access to information**: Mobile phones have made\n",
      "information more accessible than ever before. With the internet at our\n",
      "fingertips, we can instantly access a vast amount of knowledge, news, and\n",
      "educational resources. 2. **Improved communication**: Mobile phones have\n",
      "revolutionized the way we communicate, enabling us to stay connected with\n",
      "family, friends, and colleagues across geographical distances. 3.\n",
      "**Convenience**: Mobile phones have made our lives more convenient, allowing us\n",
      "to manage our schedules, pay bills, and access various services on-the-go. 4.\n",
      "**Economic benefits**: Mobile phones have created new economic opportunities,\n",
      "enabling entrepreneurs to start businesses, connect with customers, and access\n",
      "new markets. 5. **Social benefits**: Mobile phones have helped bridge social\n",
      "divides, enabling people with disabilities, elderly, and those living in remote\n",
      "areas to stay connected with the rest of the world.  **Benefits of debating the\n",
      "use of mobile phones:**  1. **Awareness and education**: Debating the use of\n",
      "mobile phones can raise awareness about the potential risks and benefits\n",
      "associated with their use, promoting education and informed decision-making. 2.\n",
      "**Policy development**: Debates on mobile phone use can inform policy\n",
      "development, helping governments and regulatory bodies create effective\n",
      "guidelines and laws that balance individual freedoms with public safety\n",
      "concerns. 3. **Technological innovation**: Debating the use of mobile phones can\n",
      "drive technological innovation, as companies respond to concerns and develop new\n",
      "features, applications, and services that address these issues. 4. **Social\n",
      "responsibility**: Debates on mobile phone use can promote social responsibility,\n",
      "encouraging individuals and companies to consider the impact of their actions on\n",
      "society and the environment. 5. **Critical thinking**: Debating the use of\n",
      "mobile phones can foster critical thinking, encouraging people to evaluate\n",
      "evidence, consider multiple perspectives, and develop well-informed opinions.\n",
      "**Key areas for debate:**  1. **Addiction and mental health**: How can we\n",
      "balance the benefits of mobile phones with the potential risks of addiction and\n",
      "mental health concerns? 2. **Cybersecurity and data protection**: How can we\n",
      "ensure the security of mobile phone users' data and protect against cyber\n",
      "threats? 3. **Social isolation and loneliness**: How can we mitigate the\n",
      "negative effects of mobile phone use on social isolation and loneliness? 4.\n",
      "**Environmental impact**: How can we reduce the environmental impact of mobile\n",
      "phone use, particularly in terms of e-waste and energy consumption? 5.\n",
      "**Regulation and governance**: What are the most effective ways to regulate and\n",
      "govern mobile phone use, balancing individual freedoms with public safety\n",
      "concerns?  In conclusion, debating the use of mobile phones is essential to\n",
      "promote awareness, education, and informed decision-making. By engaging in open\n",
      "and respectful discussions, we can address the key areas of concern and work\n",
      "towards creating a more responsible and sustainable use of mobile phones.\n"
     ]
    }
   ],
   "source": [
    "import textwrap\n",
    "\n",
    "def pretty_print(role, message):\n",
    "    print(f\"\\n=== {role} ===\")\n",
    "    print(textwrap.fill(message.content, width=80))\n",
    "\n",
    "pretty_print(\"Supporter\", response[\"supporter\"])\n"
   ]
  },
  {
   "cell_type": "code",
   "execution_count": 42,
   "id": "49fc587b",
   "metadata": {},
   "outputs": [
    {
     "name": "stdout",
     "output_type": "stream",
     "text": [
      "\n",
      "=== Opponent ===\n",
      "**The Dark Side of Mobile Phones: Why We Need to Rethink Our Addiction**  The\n",
      "debate on the use of mobile phones has been a contentious issue for years, with\n",
      "proponents arguing that it has revolutionized the way we communicate and access\n",
      "information. However, as we delve deeper into the consequences of mobile phone\n",
      "addiction, it becomes clear that the negatives far outweigh the benefits. Here\n",
      "are some compelling arguments against the excessive use of mobile phones:  **1.\n",
      "Mental Health Concerns**  Mobile phone addiction has been linked to a range of\n",
      "mental health issues, including anxiety, depression, and loneliness. The\n",
      "constant stream of notifications, social media updates, and news can create a\n",
      "sense of FOMO (fear of missing out) and lead to feelings of inadequacy and low\n",
      "self-esteem. Furthermore, the blue light emitted by mobile phones can interfere\n",
      "with our sleep patterns, leading to fatigue, irritability, and decreased\n",
      "concentration.  **2. Social Isolation**  While mobile phones have made it easier\n",
      "to connect with others, they have also contributed to social isolation. People\n",
      "are spending more time interacting with their phones than with real-life friends\n",
      "and family members. This can lead to a decline in face-to-face communication\n",
      "skills, empathy, and deep, meaningful relationships.  **3. Distraction and\n",
      "Productivity**  Mobile phones are a significant distraction, and excessive use\n",
      "can lead to decreased productivity, attention span, and cognitive ability.\n",
      "Students who use their phones during class have been shown to perform poorly on\n",
      "exams, while employees who use their phones during work hours can experience a\n",
      "decline in job performance and satisfaction.  **4. Physical Health Risks**\n",
      "Mobile phone addiction has been linked to a range of physical health risks,\n",
      "including: - Eye strain and vision problems - Carpal tunnel syndrome and other\n",
      "musculoskeletal disorders - Headaches and migraines - Increased risk of obesity\n",
      "and diabetes (due to sedentary behavior)  **5. Impact on Children and\n",
      "Teenagers**  Mobile phone addiction is particularly concerning for children and\n",
      "teenagers, who are still developing their cognitive and social skills. Excessive\n",
      "phone use can lead to: - Delayed development of critical thinking skills -\n",
      "Increased risk of cyberbullying and online harassment - Decreased attention span\n",
      "and ability to focus - Negative impact on academic performance and future career\n",
      "prospects  **Conclusion**  While mobile phones have made significant\n",
      "improvements in our lives, the risks associated with excessive use far outweigh\n",
      "the benefits. It's time to rethink our addiction to mobile phones and take steps\n",
      "to mitigate its negative effects. By setting limits on phone use, engaging in\n",
      "face-to-face communication, and prioritizing physical and mental well-being, we\n",
      "can create a healthier, more balanced relationship with our mobile devices.\n",
      "**Recommendations**  1. Establish phone-free zones and times (e.g., bedrooms,\n",
      "dining tables, during meals) 2. Set screen time limits and track phone use 3.\n",
      "Engage in regular exercise and physical activity 4. Prioritize face-to-face\n",
      "communication and social interactions 5. Practice mindfulness and meditation to\n",
      "reduce stress and anxiety  By taking these steps, we can reclaim our lives from\n",
      "the grip of mobile phone addiction and create a healthier, more balanced future\n",
      "for ourselves and future generations.\n"
     ]
    }
   ],
   "source": [
    "pretty_print(\"Opponent\", response[\"opponent\"])\n"
   ]
  },
  {
   "cell_type": "code",
   "execution_count": 43,
   "id": "70f2f674",
   "metadata": {},
   "outputs": [
    {
     "name": "stdout",
     "output_type": "stream",
     "text": [
      "\n",
      "=== Judge ===\n",
      "The debate revolves around the use of mobile phones and their effects on\n",
      "individuals and society. Two opposing views are presented:  **Supporter's\n",
      "View:**  * Mobile phones have numerous benefits, including:         + Access to\n",
      "information and educational resources         + Improved communication and\n",
      "connectivity         + Convenience and economic benefits         + Social\n",
      "benefits, such as bridging social divides * Debating mobile phone use promotes\n",
      "awareness, education, and informed decision-making * Key areas for debate\n",
      "include:         + Addiction and mental health concerns         + Cybersecurity\n",
      "and data protection         + Social isolation and loneliness         +\n",
      "Environmental impact         + Regulation and governance  **Opponent's View:**\n",
      "* Mobile phone addiction has numerous negative consequences, including:\n",
      "+ Mental health concerns, such as anxiety, depression, and loneliness         +\n",
      "Social isolation and decreased face-to-face communication skills         +\n",
      "Distraction and decreased productivity         + Physical health risks, such as\n",
      "eye strain, carpal tunnel syndrome, and increased risk of obesity and diabetes *\n",
      "Mobile phone addiction is particularly concerning for children and teenagers,\n",
      "who are still developing their cognitive and social skills * Recommendations for\n",
      "mitigating the negative effects of mobile phone addiction include:         +\n",
      "Establishing phone-free zones and times         + Setting screen time limits and\n",
      "tracking phone use         + Engaging in regular exercise and physical activity\n",
      "+ Prioritizing face-to-face communication and social interactions         +\n",
      "Practicing mindfulness and meditation to reduce stress and anxiety  Overall, the\n",
      "debate highlights the complex and multifaceted nature of mobile phone use and\n",
      "its effects on individuals and society. While mobile phones have many benefits,\n",
      "they also pose significant risks, particularly in terms of addiction, mental\n",
      "health, and physical health.\n"
     ]
    }
   ],
   "source": [
    "pretty_print(\"Judge\", response[\"judgment\"])"
   ]
  }
 ],
 "metadata": {
  "kernelspec": {
   "display_name": ".venv",
   "language": "python",
   "name": "python3"
  },
  "language_info": {
   "codemirror_mode": {
    "name": "ipython",
    "version": 3
   },
   "file_extension": ".py",
   "mimetype": "text/x-python",
   "name": "python",
   "nbconvert_exporter": "python",
   "pygments_lexer": "ipython3",
   "version": "3.11.2"
  }
 },
 "nbformat": 4,
 "nbformat_minor": 5
}
